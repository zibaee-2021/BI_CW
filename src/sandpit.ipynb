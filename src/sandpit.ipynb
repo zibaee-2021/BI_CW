{
 "cells": [
  {
   "cell_type": "code",
   "execution_count": 5,
   "metadata": {
    "collapsed": true
   },
   "outputs": [],
   "source": [
    "import numpy as np\n",
    "import matplotlib.pyplot as plt\n",
    "import model\n",
    "from time import time\n",
    "import numpy as np\n",
    "import pandas as pd\n",
    "import matplotlib.pyplot as plt\n",
    "from sklearn.model_selection import train_test_split, RandomizedSearchCV\n",
    "from sklearn.ensemble import RandomForestClassifier"
   ]
  },
  {
   "cell_type": "code",
   "execution_count": 18,
   "outputs": [
    {
     "name": "stdout",
     "output_type": "stream",
     "text": [
      "Labelled feaures has shape (9401, 76)\n"
     ]
    }
   ],
   "source": [
    "data = np.genfromtxt('../datasets/fiveClass.csv', delimiter=',')\n",
    "print(f'Labelled feaures has shape {data.shape}')\n",
    "\n",
    "# Remove the 40 features of Nterm50 aa comp and Cterm50 aa comp. Remove the signal peptides too.\n",
    "data_less = np.concatenate([data[:, :21], data[:, 61:-3]], axis=1)\n",
    "# X_train, X_test, y_train, y_test = split_train_test(data)\n",
    "X_train, X_test, y_train, y_test = model.split_train_test(data_less)\n"
   ],
   "metadata": {
    "collapsed": false
   }
  },
  {
   "cell_type": "code",
   "execution_count": 20,
   "outputs": [
    {
     "name": "stdout",
     "output_type": "stream",
     "text": [
      "Expecting train to be 7520 rows by 32 columns: (7520, 32)\n"
     ]
    }
   ],
   "source": [
    "print(f'Expecting train to be {int(0.8 * 9401)} rows by 32 columns: {X_train.shape}')"
   ],
   "metadata": {
    "collapsed": false
   }
  },
  {
   "cell_type": "code",
   "execution_count": 22,
   "outputs": [
    {
     "data": {
      "text/plain": "['1',\n '2',\n '3',\n '4',\n '5',\n '6',\n '7',\n '8',\n '9',\n '10',\n '11',\n '12',\n '13',\n '14',\n '15',\n '16',\n '17',\n '18',\n '19',\n '20',\n '21',\n '22',\n '23',\n '24',\n '25',\n '26',\n '27',\n '28',\n '29',\n '30',\n '31']"
     },
     "execution_count": 22,
     "metadata": {},
     "output_type": "execute_result"
    }
   ],
   "source": [
    "feature_names = [f'{i}' for i in range(1, 32)]\n",
    "feature_names"
   ],
   "metadata": {
    "collapsed": false
   }
  },
  {
   "cell_type": "code",
   "execution_count": null,
   "outputs": [],
   "source": [
    "\n",
    "\n",
    "clf, importances = model.train_RFC(X_train, y_train)\n",
    "\n",
    "std = np.std([tree.feature_importances_ for tree in clf.estimators_], axis=0)\n",
    "feature_names = [f'{i}' for i in range(1, 32)]\n",
    "forest_importances = pd.Series(importances, index=feature_names)\n",
    "fig, ax = plt.subplots()\n",
    "forest_importances.plot.bar(yerr=std, ax=ax)\n",
    "ax.set_title('Feature importances using MDI')\n",
    "ax.set_ylabel('Mean decrease in impurity')\n",
    "ax.set_xlabel('features', fontsize=8)\n",
    "ax.spines['right'].set_visible(False)\n",
    "ax.spines['top'].set_visible(False)\n",
    "fig.tight_layout()\n",
    "plt.xticks(fontsize=5)\n",
    "plt.show()\n",
    "\n",
    "model.test_RFC(clf, X_test, y_test)\n",
    "# 'All 5 classes: Train accuracy is 100, Test accuracy is 62.8\n",
    "\n",
    "print('\\nRun on 2 classes, prokaryotic vs eukarytoic')\n",
    "data = np.genfromtxt('../datasets/twoClass.csv', delimiter=',')\n",
    "print(f'labelled feats has shape {data.shape}')\n",
    "X_train, X_test, y_train, y_test = model.split_train_test(data)\n",
    "clf, importances = model.train_RFC(X_train, y_train)\n",
    "model.test_RFC(clf, X_test, y_test)\n",
    "# 'other' (prokayotic proteins) vs the rest: Train accuracy is 100.0, Test accuracy is 92.5\n",
    "\n",
    "print('\\nRun on 4 classes, prokaryotic removed')\n",
    "data = np.genfromtxt('../datasets/noProk.csv', delimiter=',')\n",
    "print(f'labelled feats has shape {data.shape}')\n",
    "X_train, X_test, y_train, y_test = model.split_train_test(data)\n",
    "clf, importances = model.train_RFC(X_train, y_train)\n",
    "model.test_RFC(clf, X_test, y_test)\n",
    "# '4 eukaryotic only: Train accuracy is 100, Test accuracy is 61"
   ],
   "metadata": {
    "collapsed": false
   }
  }
 ],
 "metadata": {
  "kernelspec": {
   "display_name": "Python 3",
   "language": "python",
   "name": "python3"
  },
  "language_info": {
   "codemirror_mode": {
    "name": "ipython",
    "version": 2
   },
   "file_extension": ".py",
   "mimetype": "text/x-python",
   "name": "python",
   "nbconvert_exporter": "python",
   "pygments_lexer": "ipython2",
   "version": "2.7.6"
  }
 },
 "nbformat": 4,
 "nbformat_minor": 0
}
