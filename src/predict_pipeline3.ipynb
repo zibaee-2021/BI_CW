{
 "cells": [
  {
   "cell_type": "code",
   "execution_count": 1,
   "outputs": [],
   "source": [
    "import numpy as np\n",
    "import pandas as pd\n",
    "import matplotlib.pyplot as plt\n",
    "import model"
   ],
   "metadata": {
    "collapsed": false
   }
  },
  {
   "cell_type": "markdown",
   "source": [
    "`label_and_features` has 76 columns which are 1 label + 75 features:\n",
    "Column index numbers are from 0 to 74.\n",
    "index 0 is label (0-4)\n",
    "index 1-20 is global aa comp.\n",
    "index 21-40 global aa comp for Nterm50.\n",
    "index 41-60 global aa comp for Cterm50.\n",
    "index 61 gravy for Nterm50.\n",
    "index 62 gravy for Cterm50.\n",
    "index 63 mol wt.\n",
    "index 64 mean flex.\n",
    "index 65 aromaticity.\n",
    "index 66 i.p.\n",
    "index 67 net charge.\n",
    "index 68 mnc.\n",
    "index 69 tc.\n",
    "index 70 mtc.\n",
    "index 71 gravy.\n",
    "index 72 length.\n",
    "index 73 is mito\n",
    "index 74 is nuclear\n",
    "index 75 is secreted"
   ],
   "metadata": {
    "collapsed": false
   }
  },
  {
   "cell_type": "code",
   "execution_count": 2,
   "outputs": [
    {
     "data": {
      "text/plain": "(9401, 76)"
     },
     "execution_count": 2,
     "metadata": {},
     "output_type": "execute_result"
    }
   ],
   "source": [
    "label_and_features = np.genfromtxt('../datasets/fiveClass.csv', delimiter=',')\n",
    "# 76 cols. 75 features  + label col at 0, and 3 SP columns at end.\n",
    "label_and_features.shape"
   ],
   "metadata": {
    "collapsed": false
   }
  },
  {
   "cell_type": "code",
   "execution_count": 3,
   "outputs": [
    {
     "name": "stdout",
     "output_type": "stream",
     "text": [
      "44\n"
     ]
    },
    {
     "data": {
      "text/plain": "(9401, 32)"
     },
     "execution_count": 3,
     "metadata": {},
     "output_type": "execute_result"
    }
   ],
   "source": [
    "# ONLY RUN ONCE!\n",
    "# drop mtc, signal peptides and Nterm50 and Cterm50 aa comps.\n",
    "cols_to_remove  = list(range(21, 61)) + [70, 73, 74, 75]\n",
    "print(len(cols_to_remove))\n",
    "label_and_features_less = np.delete(label_and_features, cols_to_remove, axis=1)\n",
    "label_and_features_less.shape"
   ],
   "metadata": {
    "collapsed": false
   }
  },
  {
   "cell_type": "code",
   "execution_count": 4,
   "outputs": [],
   "source": [
    "X_train_31, X_test_31, y_train_31, y_test_31 = model.split_train_test(label_and_features_less)"
   ],
   "metadata": {
    "collapsed": false
   }
  },
  {
   "cell_type": "code",
   "execution_count": 18,
   "outputs": [
    {
     "name": "stdout",
     "output_type": "stream",
     "text": [
      "(7520, 31)\n",
      "(1881, 31)\n",
      "(7520,)\n",
      "(1881,)\n"
     ]
    }
   ],
   "source": [
    "print(X_train_31.shape)\n",
    "print(X_test_31.shape)\n",
    "print(y_train_31.shape)\n",
    "print(y_test_31.shape)"
   ],
   "metadata": {
    "collapsed": false
   }
  },
  {
   "cell_type": "code",
   "execution_count": 21,
   "outputs": [
    {
     "name": "stdout",
     "output_type": "stream",
     "text": [
      "Trained in 6 secs\n",
      "Train accuracy is 100.0\n"
     ]
    },
    {
     "data": {
      "text/plain": "<Figure size 640x480 with 1 Axes>",
      "image/png": "[encoded data removed]"
     },
     "metadata": {},
     "output_type": "display_data"
    }
   ],
   "source": [
    "clf, importances = model.train_RFC(X_train_31, y_train_31)\n",
    "std = np.std([tree.feature_importances_ for tree in clf.estimators_], axis=0)\n",
    "feature_names = [f'{i}' for i in range(1, X_train_31.shape[1] +1)]\n",
    "forest_importances = pd.Series(importances, index=feature_names)\n",
    "fig, ax = plt.subplots()\n",
    "forest_importances.plot.bar(yerr=std, ax=ax)\n",
    "ax.set_title('Feature importances using MDI')\n",
    "ax.set_ylabel('Mean decrease in impurity')\n",
    "ax.set_xlabel('features', fontsize=10)\n",
    "ax.spines['right'].set_visible(False)\n",
    "ax.spines['top'].set_visible(False)\n",
    "fig.tight_layout()\n",
    "plt.xticks(fontsize=10)\n",
    "plt.show()\n"
   ],
   "metadata": {
    "collapsed": false
   }
  },
  {
   "cell_type": "code",
   "execution_count": 5,
   "outputs": [],
   "source": [
    "accuracies_31 = np.zeros(5)"
   ],
   "metadata": {
    "collapsed": false
   }
  },
  {
   "cell_type": "code",
   "execution_count": 15,
   "outputs": [
    {
     "name": "stdout",
     "output_type": "stream",
     "text": [
      "0\n",
      "Trained in 4 secs\n",
      "Test accuracy is 62.7\n",
      "1\n",
      "Trained in 4 secs\n",
      "Test accuracy is 62.7\n",
      "2\n",
      "Trained in 4 secs\n",
      "Test accuracy is 63.4\n",
      "3\n",
      "Trained in 4 secs\n",
      "Test accuracy is 63.4\n",
      "4\n",
      "Trained in 4 secs\n",
      "Test accuracy is 62.4\n",
      "62.92\n",
      "0.40693979898751514\n"
     ]
    }
   ],
   "source": [
    "accuracies_31 = np.zeros(5)\n",
    "for i in range(5):\n",
    "    print(i)\n",
    "    clf, _ = model.train_RFC(X_train_31, y_train_31)\n",
    "    acc = model.test_RFC(clf, X_test_31, y_test_31)\n",
    "    accuracies_31[i] = acc\n",
    "\n",
    "meanAcc = np.mean(accuracies_31)\n",
    "stdAcc = np.std(accuracies_31)\n",
    "\n",
    "print(meanAcc)\n",
    "print(stdAcc)"
   ],
   "metadata": {
    "collapsed": false
   }
  },
  {
   "cell_type": "code",
   "execution_count": 7,
   "outputs": [
    {
     "data": {
      "text/plain": "array([63.2, 62.1, 63.1, 63.5, 62.9])"
     },
     "execution_count": 7,
     "metadata": {},
     "output_type": "execute_result"
    }
   ],
   "source": [
    "accuracies_31"
   ],
   "metadata": {
    "collapsed": false
   }
  },
  {
   "cell_type": "code",
   "execution_count": 8,
   "outputs": [],
   "source": [
    "meanAcc = np.mean(accuracies_31)\n",
    "stdAcc = np.std(accuracies_31)"
   ],
   "metadata": {
    "collapsed": false
   }
  },
  {
   "cell_type": "code",
   "execution_count": 9,
   "outputs": [
    {
     "data": {
      "text/plain": "62.96"
     },
     "execution_count": 9,
     "metadata": {},
     "output_type": "execute_result"
    }
   ],
   "source": [
    "meanAcc"
   ],
   "metadata": {
    "collapsed": false
   }
  },
  {
   "cell_type": "code",
   "execution_count": 27,
   "outputs": [
    {
     "name": "stdout",
     "output_type": "stream",
     "text": [
      "[33.0, 57.0, 23.0, 27.0, 21.0, 24.0, 23.0, 29.0, 34.0, 29.0, 25.0, 24.0, 27.0, 26.0, 28.0, 42.0, 25.0, 25.0, 21.0, 27.0, 50.0, 24.0, 46.0, 47.0, 28.0, 30.0, 27.0, 28.0, 48.0, 49.0, 52.0]\n",
      "31\n"
     ]
    }
   ],
   "source": [
    "imps = list(round(forest_importances * 1000))\n",
    "print(imps)\n",
    "print(len(imps))"
   ],
   "metadata": {
    "collapsed": false
   }
  },
  {
   "cell_type": "markdown",
   "source": [
    "### PREDICT WITH 31 GIVES 63.8%"
   ],
   "metadata": {
    "collapsed": false
   }
  },
  {
   "cell_type": "code",
   "execution_count": 28,
   "outputs": [
    {
     "name": "stdout",
     "output_type": "stream",
     "text": [
      "Test accuracy is 63.8\n"
     ]
    }
   ],
   "source": [
    "# predict_proba()\n",
    "model.test_RFC(clf, X_test_31, y_test_31)"
   ],
   "metadata": {
    "collapsed": false
   }
  },
  {
   "cell_type": "markdown",
   "source": [
    "### TRY WITH ALL 75 - GET FEAT IMPS FOR APPENDIX TABLE"
   ],
   "metadata": {
    "collapsed": false
   }
  },
  {
   "cell_type": "code",
   "execution_count": 4,
   "outputs": [],
   "source": [
    "import numpy as np\n",
    "import pandas as pd\n",
    "import matplotlib.pyplot as plt\n",
    "import model"
   ],
   "metadata": {
    "collapsed": false
   }
  },
  {
   "cell_type": "code",
   "execution_count": 11,
   "outputs": [
    {
     "data": {
      "text/plain": "(9401, 76)"
     },
     "execution_count": 11,
     "metadata": {},
     "output_type": "execute_result"
    }
   ],
   "source": [
    "label_and_features = np.genfromtxt('../datasets/fiveClass.csv', delimiter=',')\n",
    "# 76 cols. 75 features  + label col at 0, and 3 SP columns at end.\n",
    "label_and_features.shape"
   ],
   "metadata": {
    "collapsed": false
   }
  },
  {
   "cell_type": "code",
   "execution_count": 13,
   "outputs": [],
   "source": [
    "X_train_75, X_test_75, y_train_75, y_test_75 = model.split_train_test(label_and_features)"
   ],
   "metadata": {
    "collapsed": false
   }
  },
  {
   "cell_type": "code",
   "execution_count": 14,
   "outputs": [
    {
     "name": "stdout",
     "output_type": "stream",
     "text": [
      "0\n",
      "Trained in 5 secs\n",
      "Test accuracy is 64.1\n",
      "1\n",
      "Trained in 4 secs\n",
      "Test accuracy is 63.8\n",
      "2\n",
      "Trained in 4 secs\n",
      "Test accuracy is 63.2\n",
      "3\n",
      "Trained in 5 secs\n",
      "Test accuracy is 64.0\n",
      "4\n",
      "Trained in 4 secs\n",
      "Test accuracy is 64.0\n",
      "63.82000000000001\n",
      "0.3249615361854364\n"
     ]
    }
   ],
   "source": [
    "accuracies_75 = np.zeros(5)\n",
    "for i in range(5):\n",
    "    print(i)\n",
    "    clf, _ = model.train_RFC(X_train_75, y_train_75)\n",
    "    acc = model.test_RFC(clf, X_test_75, y_test_75)\n",
    "    accuracies_75[i] = acc\n",
    "\n",
    "meanAcc75 = np.mean(accuracies_75)\n",
    "stdAcc75 = np.std(accuracies_75)\n",
    "\n",
    "print(meanAcc75)\n",
    "print(stdAcc75)"
   ],
   "metadata": {
    "collapsed": false
   }
  },
  {
   "cell_type": "code",
   "execution_count": 7,
   "outputs": [
    {
     "name": "stdout",
     "output_type": "stream",
     "text": [
      "(7520, 75)\n",
      "(1881, 75)\n",
      "(7520,)\n",
      "(1881,)\n"
     ]
    }
   ],
   "source": [
    "print(X_train_75.shape)\n",
    "print(X_test_75.shape)\n",
    "print(y_train_75.shape)\n",
    "print(y_test_75.shape)"
   ],
   "metadata": {
    "collapsed": false
   }
  },
  {
   "cell_type": "code",
   "execution_count": 16,
   "outputs": [
    {
     "name": "stdout",
     "output_type": "stream",
     "text": [
      "Trained in 5 secs\n",
      "Train accuracy is 100.0\n"
     ]
    },
    {
     "data": {
      "text/plain": "<Figure size 1200x600 with 1 Axes>",
      "image/png": "[encoded data removed]"
     },
     "metadata": {},
     "output_type": "display_data"
    }
   ],
   "source": [
    "clf, importances = model.train_RFC(X_train_75, y_train_75)\n",
    "std = np.std([tree.feature_importances_ for tree in clf.estimators_], axis=0)\n",
    "feature_names = [f'{i}' for i in range(1, X_train_75.shape[1] +1)]\n",
    "forest_importances = pd.Series(importances, index=feature_names)\n",
    "fig, ax = plt.subplots(figsize=(12, 6))\n",
    "forest_importances.plot.bar(yerr=std, ax=ax)\n",
    "ax.set_title('Feature importances using MDI')\n",
    "ax.set_ylabel('Mean decrease in impurity')\n",
    "ax.set_xlabel('features', fontsize=10)\n",
    "ax.spines['right'].set_visible(False)\n",
    "ax.spines['top'].set_visible(False)\n",
    "fig.tight_layout()\n",
    "plt.xticks(fontsize=8)\n",
    "plt.show()\n"
   ],
   "metadata": {
    "collapsed": false
   }
  },
  {
   "cell_type": "code",
   "execution_count": 31,
   "outputs": [
    {
     "name": "stdout",
     "output_type": "stream",
     "text": [
      "[23, 39, 15, 18, 13, 14, 15, 19, 25, 18, 17, 15, 17, 17, 19, 32, 15, 18, 13, 19]\n",
      "20\n",
      "[8, 5, 10, 14, 7, 8, 5, 9, 9, 12, 11, 6, 8, 6, 12, 10, 7, 7, 4, 5]\n",
      "20\n",
      "20\n",
      "[8, 7, 7, 8, 5, 8, 5, 8, 8, 9, 5, 7, 7, 7, 7, 9, 7, 6, 4, 6]\n",
      "\n"
     ]
    }
   ],
   "source": [
    "imps = list(round(forest_importances * 1000))\n",
    "imps = ([int(imp) for imp in imps])\n",
    "print(imps[:20])\n",
    "print(len(imps[:20]))\n",
    "Nterm50_aacomps_imps = imps[20:40]\n",
    "print(Nterm50_aacomps_imps)\n",
    "print(len(Nterm50_aacomps_imps))\n",
    "\n",
    "Cterm50_aacomps_imps = imps[40:60]\n",
    "\n",
    "print(len(Cterm50_aacomps_imps))\n",
    "print(Cterm50_aacomps_imps)\n",
    "print()"
   ],
   "metadata": {
    "collapsed": false
   }
  },
  {
   "cell_type": "code",
   "execution_count": 38,
   "outputs": [
    {
     "name": "stdout",
     "output_type": "stream",
     "text": [
      "Test accuracy is 64.5\n"
     ]
    }
   ],
   "source": [
    "model.test_RFC(clf, X_test_75, y_test_75)"
   ],
   "metadata": {
    "collapsed": false
   }
  },
  {
   "cell_type": "code",
   "execution_count": 39,
   "outputs": [],
   "source": [
    "proba = clf.predict_proba(X_test_75)"
   ],
   "metadata": {
    "collapsed": false
   }
  },
  {
   "cell_type": "code",
   "execution_count": 41,
   "outputs": [
    {
     "data": {
      "text/plain": "(1881, 5)"
     },
     "execution_count": 41,
     "metadata": {},
     "output_type": "execute_result"
    }
   ],
   "source": [
    "proba.shape"
   ],
   "metadata": {
    "collapsed": false
   }
  },
  {
   "cell_type": "code",
   "execution_count": 46,
   "outputs": [],
   "source": [
    "proba = proba * 100"
   ],
   "metadata": {
    "collapsed": false
   }
  },
  {
   "cell_type": "code",
   "execution_count": 48,
   "outputs": [],
   "source": [
    "proba = proba.astype(int)"
   ],
   "metadata": {
    "collapsed": false
   }
  },
  {
   "cell_type": "code",
   "execution_count": 49,
   "outputs": [
    {
     "data": {
      "text/plain": "array([[24,  2,  4, 69,  1],\n       [26,  3,  1, 69,  1],\n       [51,  3,  2, 44,  0],\n       ...,\n       [25,  6, 12,  9, 48],\n       [ 8,  9,  4,  1, 78],\n       [32,  6,  9, 38, 15]])"
     },
     "execution_count": 49,
     "metadata": {},
     "output_type": "execute_result"
    }
   ],
   "source": [
    "proba"
   ],
   "metadata": {
    "collapsed": false
   }
  },
  {
   "cell_type": "markdown",
   "source": [
    "### TRY WITH 24 - GET FEAT IMPS FOR APPENDIX TABLE"
   ],
   "metadata": {
    "collapsed": false
   }
  },
  {
   "cell_type": "code",
   "execution_count": 18,
   "outputs": [
    {
     "data": {
      "text/plain": "(9401, 76)"
     },
     "execution_count": 18,
     "metadata": {},
     "output_type": "execute_result"
    }
   ],
   "source": [
    "label_and_features = np.genfromtxt('../datasets/fiveClass.csv', delimiter=',')\n",
    "# 76 cols. 75 features  + label col at 0, and 3 SP columns at end.\n",
    "label_and_features.shape"
   ],
   "metadata": {
    "collapsed": false
   }
  },
  {
   "cell_type": "code",
   "execution_count": 19,
   "outputs": [
    {
     "name": "stdout",
     "output_type": "stream",
     "text": [
      "51\n"
     ]
    },
    {
     "data": {
      "text/plain": "(9401, 25)"
     },
     "execution_count": 19,
     "metadata": {},
     "output_type": "execute_result"
    }
   ],
   "source": [
    "# ONLY RUN ONCE!\n",
    "# drop mtc, signal peptides and Nterm50 and Cterm50 aa comps.\n",
    "# also drop any below 25 feature importance\n",
    "cols_to_remove  = list(range(21, 61)) + [70, 73, 74, 75] + [3, 5, 6, 7, 12, 19, 62]\n",
    "print(len(cols_to_remove))\n",
    "label_and_features_less = np.delete(label_and_features, cols_to_remove, axis=1)\n",
    "label_and_features_less.shape"
   ],
   "metadata": {
    "collapsed": false
   }
  },
  {
   "cell_type": "code",
   "execution_count": 20,
   "outputs": [
    {
     "name": "stdout",
     "output_type": "stream",
     "text": [
      "(7520, 24)\n",
      "(1881, 24)\n",
      "(7520,)\n",
      "(1881,)\n"
     ]
    }
   ],
   "source": [
    "X_train_24, X_test_24, y_train_24, y_test_24 = model.split_train_test(label_and_features_less)\n",
    "print(X_train_24.shape)\n",
    "print(X_test_24.shape)\n",
    "print(y_train_24.shape)\n",
    "print(y_test_24.shape)"
   ],
   "metadata": {
    "collapsed": false
   }
  },
  {
   "cell_type": "code",
   "execution_count": 21,
   "outputs": [
    {
     "name": "stdout",
     "output_type": "stream",
     "text": [
      "0\n",
      "Trained in 5 secs\n",
      "Test accuracy is 62.0\n",
      "1\n",
      "Trained in 4 secs\n",
      "Test accuracy is 62.6\n",
      "2\n",
      "Trained in 5 secs\n",
      "Test accuracy is 62.1\n",
      "3\n",
      "Trained in 3 secs\n",
      "Test accuracy is 61.9\n",
      "4\n",
      "Trained in 3 secs\n",
      "Test accuracy is 63.1\n",
      "62.339999999999996\n",
      "0.4498888751680805\n"
     ]
    }
   ],
   "source": [
    "accuracies_24 = np.zeros(5)\n",
    "for i in range(5):\n",
    "    print(i)\n",
    "    clf, _ = model.train_RFC(X_train_24, y_train_24)\n",
    "    acc = model.test_RFC(clf, X_test_24, y_test_24)\n",
    "    accuracies_24[i] = acc\n",
    "\n",
    "meanAcc24 = np.mean(accuracies_24)\n",
    "stdAcc24 = np.std(accuracies_24)\n",
    "\n",
    "print(meanAcc24)\n",
    "print(stdAcc24)"
   ],
   "metadata": {
    "collapsed": false
   }
  },
  {
   "cell_type": "code",
   "execution_count": 57,
   "outputs": [
    {
     "name": "stdout",
     "output_type": "stream",
     "text": [
      "Trained in 4 secs\n",
      "Train accuracy is 100.0\n"
     ]
    },
    {
     "data": {
      "text/plain": "<Figure size 640x480 with 1 Axes>",
      "image/png": "[encoded data removed]"
     },
     "metadata": {},
     "output_type": "display_data"
    }
   ],
   "source": [
    "clf, importances = model.train_RFC(X_train_24, y_train_24)\n",
    "std = np.std([tree.feature_importances_ for tree in clf.estimators_], axis=0)\n",
    "feature_names = [f'{i}' for i in range(1, X_train_24.shape[1] +1)]\n",
    "forest_importances = pd.Series(importances, index=feature_names)\n",
    "fig, ax = plt.subplots()\n",
    "forest_importances.plot.bar(yerr=std, ax=ax)\n",
    "ax.set_title('Feature importances using MDI')\n",
    "ax.set_ylabel('Mean decrease in impurity')\n",
    "ax.set_xlabel('features', fontsize=10)\n",
    "ax.spines['right'].set_visible(False)\n",
    "ax.spines['top'].set_visible(False)\n",
    "fig.tight_layout()\n",
    "plt.xticks(fontsize=10)\n",
    "plt.show()\n"
   ],
   "metadata": {
    "collapsed": false
   }
  },
  {
   "cell_type": "code",
   "execution_count": 58,
   "outputs": [
    {
     "name": "stdout",
     "output_type": "stream",
     "text": [
      "[39.0, 62.0, 34.0, 37.0, 43.0, 36.0, 31.0, 33.0, 31.0, 35.0, 50.0, 31.0, 32.0, 34.0, 61.0, 54.0, 51.0, 35.0, 35.0, 34.0, 35.0, 52.0, 53.0, 60.0]\n",
      "24\n"
     ]
    }
   ],
   "source": [
    "imps = list(round(forest_importances * 1000))\n",
    "print(imps)\n",
    "print(len(imps))"
   ],
   "metadata": {
    "collapsed": false
   }
  },
  {
   "cell_type": "code",
   "execution_count": 59,
   "outputs": [
    {
     "name": "stdout",
     "output_type": "stream",
     "text": [
      "Test accuracy is 61.7\n"
     ]
    }
   ],
   "source": [
    "model.test_RFC(clf, X_test_24, y_test_24)"
   ],
   "metadata": {
    "collapsed": false
   }
  },
  {
   "cell_type": "code",
   "execution_count": null,
   "outputs": [],
   "source": [],
   "metadata": {
    "collapsed": false
   }
  }
 ],
 "metadata": {
  "kernelspec": {
   "display_name": "Python 3",
   "language": "python",
   "name": "python3"
  },
  "language_info": {
   "codemirror_mode": {
    "name": "ipython",
    "version": 2
   },
   "file_extension": ".py",
   "mimetype": "text/x-python",
   "name": "python",
   "nbconvert_exporter": "python",
   "pygments_lexer": "ipython2",
   "version": "2.7.6"
  }
 },
 "nbformat": 4,
 "nbformat_minor": 0
}
