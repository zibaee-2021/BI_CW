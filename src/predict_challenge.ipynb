{
 "cells": [
  {
   "cell_type": "code",
   "execution_count": 52,
   "metadata": {
    "collapsed": true
   },
   "outputs": [],
   "source": [
    "import pandas as pd\n",
    "from pandas.core.frame import DataFrame as pdf\n",
    "import seaborn as sns\n",
    "import matplotlib.pyplot as plt\n",
    "import local_signals\n",
    "import model\n",
    "import dataset\n",
    "from Bio import SeqIO\n",
    "from sklearn.ensemble import RandomForestClassifier\n",
    "import numpy as np\n",
    "from scipy import stats\n",
    "from features import Features\n",
    "from Bio.Data import IUPACData"
   ]
  },
  {
   "cell_type": "code",
   "execution_count": 20,
   "outputs": [],
   "source": [
    "def read_and_validate_all_challenge_fasta_seq_and_id():\n",
    "    # sequence, id = '', ''\n",
    "    id_seq = {}\n",
    "    sequence_count = len(list(SeqIO.parse(f'../datasets/fasta_files/challenge.fasta', 'fasta')))\n",
    "    # print(f'Expecting 20 sequences in challenge.fasta. Found {sequence_count}')\n",
    "\n",
    "    for record in SeqIO.parse(f'../datasets/fasta_files/challenge.fasta', 'fasta'):\n",
    "        if set(record.seq) <= set(IUPACData.protein_letters):\n",
    "            sequence = record.seq\n",
    "            id = record.id\n",
    "            # print(f'ID {id}, \\n has sequence {sequence}')\n",
    "            id_seq[id] = sequence\n",
    "    return id_seq\n",
    "\n",
    "id_seq = read_and_validate_all_challenge_fasta_seq_and_id()"
   ],
   "metadata": {
    "collapsed": false
   }
  },
  {
   "cell_type": "code",
   "execution_count": 34,
   "outputs": [],
   "source": [
    "def build_31_features_for_challenge(sequence):\n",
    "    features_ary = np.zeros((1, 31), dtype=np.float32)\n",
    "\n",
    "    feats = Features(sequence)\n",
    "    glob_aa_comp = feats.global_aa_comp()\n",
    "    features_ary[0, :20] = glob_aa_comp\n",
    "\n",
    "    Nterm_50_gravy, Cterm_50_gravy = feats.local_hydrophobicity(sequence)\n",
    "    features_ary[0, 20] = Nterm_50_gravy\n",
    "    features_ary[0, 21] = Cterm_50_gravy\n",
    "\n",
    "    features_ary[0, 22] = feats.mol_weight()\n",
    "    features_ary[0, 23] = feats.mean_flexibility()\n",
    "    features_ary[0, 24] = feats.aromaticity()\n",
    "    features_ary[0, 25] = feats.isoelectric_point()\n",
    "    features_ary[0, 26], features_ary[0, 27] = feats.net_charge_and_mnc()\n",
    "    features_ary[0, 28], _ = feats.total_charge_and_mtc()\n",
    "    features_ary[0, 29] = feats.mean_hydrophobicity()\n",
    "    features_ary[0, 30] = len(sequence)\n",
    "\n",
    "    return features_ary\n",
    "\n",
    "all_20 = []\n",
    "row_ids = []\n",
    "chall_feats = np.zeros((20, 31))\n",
    "\n",
    "for i, (id, seq) in enumerate(id_seq.items()):\n",
    "    row_ids.append(id)\n",
    "    chall_feats[i, :] = build_31_features_for_challenge(seq)"
   ],
   "metadata": {
    "collapsed": false
   }
  },
  {
   "cell_type": "code",
   "execution_count": 35,
   "outputs": [
    {
     "data": {
      "text/plain": "(20, 31)"
     },
     "execution_count": 35,
     "metadata": {},
     "output_type": "execute_result"
    }
   ],
   "source": [
    "chall_feats.shape"
   ],
   "metadata": {
    "collapsed": false
   }
  },
  {
   "cell_type": "code",
   "execution_count": 36,
   "outputs": [
    {
     "data": {
      "text/plain": "(9401, 76)"
     },
     "execution_count": 36,
     "metadata": {},
     "output_type": "execute_result"
    }
   ],
   "source": [
    "label_and_features = np.genfromtxt('../datasets/fiveClass.csv', delimiter=',')\n",
    "# 76 cols. 75 features  + label col at 0, and 3 SP columns at end.\n",
    "label_and_features.shape"
   ],
   "metadata": {
    "collapsed": false
   }
  },
  {
   "cell_type": "code",
   "execution_count": 37,
   "outputs": [
    {
     "name": "stdout",
     "output_type": "stream",
     "text": [
      "44\n"
     ]
    },
    {
     "data": {
      "text/plain": "(9401, 32)"
     },
     "execution_count": 37,
     "metadata": {},
     "output_type": "execute_result"
    }
   ],
   "source": [
    "# ONLY RUN ONCE!\n",
    "# drop mtc, signal peptides and Nterm50 and Cterm50 aa comps.\n",
    "cols_to_remove  = list(range(21, 61)) + [70, 73, 74, 75]\n",
    "print(len(cols_to_remove))\n",
    "label_and_features_less = np.delete(label_and_features, cols_to_remove, axis=1)\n",
    "label_and_features_less.shape"
   ],
   "metadata": {
    "collapsed": false
   }
  },
  {
   "cell_type": "code",
   "execution_count": 39,
   "outputs": [],
   "source": [
    "X_train_31, X_test_31, y_train_31, y_test_31 = model.split_train_test(label_and_features_less)"
   ],
   "metadata": {
    "collapsed": false
   }
  },
  {
   "cell_type": "code",
   "execution_count": 40,
   "outputs": [
    {
     "name": "stdout",
     "output_type": "stream",
     "text": [
      "(9401, 31)\n",
      "(9401,)\n"
     ]
    }
   ],
   "source": [
    "# stick it back together\n",
    "X_31 = np.concatenate([X_train_31, X_test_31], axis=0)\n",
    "y_31 = np.concatenate([y_train_31, y_test_31], axis=0)\n",
    "print(X_31.shape)\n",
    "print(y_31.shape)"
   ],
   "metadata": {
    "collapsed": false
   }
  },
  {
   "cell_type": "code",
   "execution_count": 41,
   "outputs": [
    {
     "name": "stdout",
     "output_type": "stream",
     "text": [
      "Trained in 7 secs\n"
     ]
    }
   ],
   "source": [
    "# train clf on all 9401 proteins dataset\n",
    "clf, _ = model.train_RFC(X_31, y_31)"
   ],
   "metadata": {
    "collapsed": false
   }
  },
  {
   "cell_type": "code",
   "execution_count": 45,
   "outputs": [
    {
     "data": {
      "text/plain": "(5, 20)"
     },
     "execution_count": 45,
     "metadata": {},
     "output_type": "execute_result"
    }
   ],
   "source": [
    "_20_preds = np.zeros((5, 20))\n",
    "_20_preds.shape\n",
    "\n",
    "_20_probs = np.zeros((5, 20))\n",
    "_20_probs.shape"
   ],
   "metadata": {
    "collapsed": false
   }
  },
  {
   "cell_type": "code",
   "execution_count": 50,
   "outputs": [],
   "source": [
    "probs_0 = clf.predict_proba(chall_feats)\n",
    "_20_preds[0, :] = clf.predict(chall_feats)\n",
    "\n",
    "probs_1 = clf.predict_proba(chall_feats)\n",
    "_20_preds[1, :] = clf.predict(chall_feats)\n",
    "\n",
    "probs_2 = clf.predict_proba(chall_feats)\n",
    "_20_preds[2, :] = clf.predict(chall_feats)\n",
    "\n",
    "probs_3 = clf.predict_proba(chall_feats)\n",
    "_20_preds[3, :] = clf.predict(chall_feats)\n",
    "\n",
    "probs_4 = clf.predict_proba(chall_feats)\n",
    "_20_preds[4, :] = clf.predict(chall_feats)\n"
   ],
   "metadata": {
    "collapsed": false
   }
  },
  {
   "cell_type": "code",
   "execution_count": 57,
   "outputs": [
    {
     "data": {
      "text/plain": "array([[0.14, 0.27, 0.45, 0.11, 0.03],\n       [0.06, 0.04, 0.05, 0.02, 0.83],\n       [0.31, 0.05, 0.21, 0.39, 0.04],\n       [0.38, 0.  , 0.  , 0.62, 0.  ],\n       [0.65, 0.  , 0.04, 0.28, 0.03],\n       [0.38, 0.08, 0.1 , 0.37, 0.07],\n       [0.07, 0.44, 0.12, 0.14, 0.23],\n       [0.15, 0.17, 0.3 , 0.16, 0.22],\n       [0.27, 0.31, 0.15, 0.17, 0.1 ],\n       [0.14, 0.2 , 0.22, 0.17, 0.27],\n       [0.37, 0.08, 0.14, 0.31, 0.1 ],\n       [0.33, 0.12, 0.11, 0.4 , 0.04],\n       [0.18, 0.03, 0.13, 0.53, 0.13],\n       [0.42, 0.01, 0.  , 0.56, 0.01],\n       [0.16, 0.04, 0.05, 0.04, 0.71],\n       [0.23, 0.01, 0.05, 0.69, 0.02],\n       [0.23, 0.03, 0.06, 0.09, 0.59],\n       [0.26, 0.02, 0.05, 0.64, 0.03],\n       [0.25, 0.03, 0.23, 0.23, 0.26],\n       [0.17, 0.15, 0.03, 0.05, 0.6 ]])"
     },
     "execution_count": 57,
     "metadata": {},
     "output_type": "execute_result"
    }
   ],
   "source": [
    "arr_stack = np.stack((probs_0, probs_1, probs_2, probs_3, probs_4))\n",
    "elementwise_mean = np.mean(arr_stack, axis=0)\n",
    "elementwise_mean"
   ],
   "metadata": {
    "collapsed": false
   }
  },
  {
   "cell_type": "code",
   "execution_count": 58,
   "outputs": [
    {
     "data": {
      "text/plain": "array([[14., 27., 45., 11.,  3.],\n       [ 6.,  4.,  5.,  2., 83.],\n       [31.,  5., 21., 39.,  4.],\n       [38.,  0.,  0., 62.,  0.],\n       [65.,  0.,  4., 28.,  3.],\n       [38.,  8., 10., 37.,  7.],\n       [ 7., 44., 12., 14., 23.],\n       [15., 17., 30., 16., 22.],\n       [27., 31., 15., 17., 10.],\n       [14., 20., 22., 17., 27.],\n       [37.,  8., 14., 31., 10.],\n       [33., 12., 11., 40.,  4.],\n       [18.,  3., 13., 53., 13.],\n       [42.,  1.,  0., 56.,  1.],\n       [16.,  4.,  5.,  4., 71.],\n       [23.,  1.,  5., 69.,  2.],\n       [23.,  3.,  6.,  9., 59.],\n       [26.,  2.,  5., 64.,  3.],\n       [25.,  3., 23., 23., 26.],\n       [17., 15.,  3.,  5., 60.]])"
     },
     "execution_count": 58,
     "metadata": {},
     "output_type": "execute_result"
    }
   ],
   "source": [
    "elementwise_mean *= 100\n",
    "elementwise_mean"
   ],
   "metadata": {
    "collapsed": false
   }
  },
  {
   "cell_type": "code",
   "execution_count": 60,
   "outputs": [
    {
     "data": {
      "text/plain": "array([[2., 4., 3., 3., 0., 0., 1., 2., 1., 4., 0., 3., 3., 3., 4., 3.,\n        4., 3., 4., 4.],\n       [2., 4., 3., 3., 0., 0., 1., 2., 1., 4., 0., 3., 3., 3., 4., 3.,\n        4., 3., 4., 4.],\n       [2., 4., 3., 3., 0., 0., 1., 2., 1., 4., 0., 3., 3., 3., 4., 3.,\n        4., 3., 4., 4.],\n       [2., 4., 3., 3., 0., 0., 1., 2., 1., 4., 0., 3., 3., 3., 4., 3.,\n        4., 3., 4., 4.],\n       [2., 4., 3., 3., 0., 0., 1., 2., 1., 4., 0., 3., 3., 3., 4., 3.,\n        4., 3., 4., 4.]])"
     },
     "execution_count": 60,
     "metadata": {},
     "output_type": "execute_result"
    }
   ],
   "source": [
    "_20_preds"
   ],
   "metadata": {
    "collapsed": false
   }
  },
  {
   "cell_type": "code",
   "execution_count": null,
   "outputs": [],
   "source": [
    "_20_probs"
   ],
   "metadata": {
    "collapsed": false
   }
  },
  {
   "cell_type": "code",
   "execution_count": null,
   "outputs": [],
   "source": [],
   "metadata": {
    "collapsed": false
   }
  },
  {
   "cell_type": "code",
   "execution_count": 22,
   "outputs": [
    {
     "data": {
      "text/plain": "array([[ 7.800e+01,  2.900e+01,  1.900e+01,  6.800e+01,  5.800e+01,\n         1.070e+02,  2.900e+01,  8.700e+01,  5.800e+01,  7.800e+01,\n         3.900e+01,  3.900e+01,  1.900e+01,  4.900e+01,  7.800e+01,\n         9.700e+01,  3.900e+01,  2.900e+01,  0.000e+00,  0.000e+00,\n        -7.000e+00, -1.900e+01,  1.100e+01,  9.990e+02,  5.800e+01,\n         9.570e+02,  4.700e+02,  4.560e+02,  2.300e+01, -2.000e+01,\n         1.030e+02],\n       [ 9.700e+01,  1.500e+01,  2.400e+01,  5.800e+01,  7.300e+01,\n         7.000e+01,  0.000e+00,  9.700e+01,  4.200e+01,  1.240e+02,\n         4.800e+01,  3.000e+01,  2.100e+01,  2.700e+01,  2.400e+01,\n         7.000e+01,  3.000e+01,  9.100e+01,  1.500e+01,  4.200e+01,\n         8.400e+01,  1.340e+02,  3.700e+01,  9.830e+02,  1.300e+02,\n         5.000e+02, -5.880e+02, -1.780e+02,  4.900e+01,  8.300e+01,\n         3.300e+02],\n       [ 7.400e+01,  4.000e+00,  1.100e+01,  5.900e+01,  1.500e+01,\n         5.200e+01,  4.100e+01,  5.500e+01,  8.100e+01,  9.600e+01,\n         7.000e+00,  3.700e+01,  4.800e+01,  5.900e+01,  9.600e+01,\n         1.070e+02,  4.400e+01,  8.500e+01,  7.000e+00,  2.200e+01,\n        -6.600e+01, -1.180e+02,  3.000e+01,  1.005e+03,  4.400e+01,\n         1.092e+03,  2.861e+03,  1.056e+03,  6.700e+01, -5.400e+01,\n         2.710e+02],\n       [ 4.300e+01,  1.600e+01,  5.800e+01,  7.800e+01,  3.700e+01,\n         5.000e+01,  1.600e+01,  5.500e+01,  7.600e+01,  9.800e+01,\n         2.600e+01,  5.700e+01,  5.000e+01,  3.500e+01,  6.600e+01,\n         1.010e+02,  6.100e+01,  5.700e+01,  6.000e+00,  1.400e+01,\n        -8.900e+01,  9.000e+00,  9.700e+01,  1.009e+03,  5.700e+01,\n         8.330e+02,  4.360e+02,  5.100e+01,  2.390e+02, -5.600e+01,\n         8.590e+02],\n       [ 9.100e+01,  4.000e+00,  4.000e+01,  1.380e+02,  3.000e+01,\n         4.000e+01,  1.900e+01,  2.600e+01,  4.500e+01,  1.280e+02,\n         1.300e+01,  3.000e+01,  3.000e+01,  6.600e+01,  1.020e+02,\n         9.800e+01,  3.400e+01,  4.500e+01,  2.000e+00,  1.900e+01,\n        -4.600e+01, -1.160e+02,  5.400e+01,  1.012e+03,  5.100e+01,\n         5.370e+02, -1.543e+03, -3.280e+02,  1.530e+02, -7.800e+01,\n         4.700e+02],\n       [ 5.100e+01,  2.300e+01,  6.200e+01,  9.700e+01,  4.300e+01,\n         7.400e+01,  2.700e+01,  4.300e+01,  3.900e+01,  1.010e+02,\n         2.700e+01,  3.900e+01,  3.100e+01,  3.100e+01,  5.400e+01,\n         1.090e+02,  4.700e+01,  7.400e+01,  4.000e+00,  2.300e+01,\n        -9.000e+00, -3.400e+01,  2.900e+01,  1.003e+03,  7.000e+01,\n         4.790e+02, -1.761e+03, -6.850e+02,  6.500e+01, -3.100e+01,\n         2.570e+02],\n       [ 1.100e+02,  4.100e+01,  5.900e+01,  1.300e+01,  4.300e+01,\n         8.200e+01,  2.000e+01,  4.100e+01,  7.700e+01,  6.600e+01,\n         2.300e+01,  3.800e+01,  3.600e+01,  3.800e+01,  2.600e+01,\n         9.200e+01,  6.900e+01,  7.400e+01,  2.600e+01,  2.600e+01,\n         8.500e+01, -5.000e+01,  4.200e+01,  9.960e+02,  9.500e+01,\n         8.960e+02,  1.110e+03,  2.840e+02,  6.800e+01, -5.000e+00,\n         3.910e+02],\n       [ 1.090e+02,  2.600e+01,  3.100e+01,  2.800e+01,  6.500e+01,\n         6.700e+01,  2.100e+01,  7.200e+01,  4.100e+01,  6.200e+01,\n         3.100e+01,  2.100e+01,  7.500e+01,  4.700e+01,  5.200e+01,\n         8.500e+01,  7.200e+01,  5.700e+01,  8.000e+00,  3.100e+01,\n        -1.000e+01, -2.500e+01,  4.200e+01,  9.930e+02,  1.030e+02,\n         9.350e+02,  1.228e+03,  3.170e+02,  5.900e+01,  8.000e+00,\n         3.870e+02],\n       [ 5.000e+01,  8.000e+00,  3.400e+01,  7.100e+01,  3.400e+01,\n         5.500e+01,  4.000e+00,  2.100e+01,  5.500e+01,  8.800e+01,\n         4.000e+00,  4.200e+01,  5.000e+01,  3.400e+01,  5.000e+01,\n         1.010e+02,  1.180e+02,  8.000e+01,  4.200e+01,  5.900e+01,\n        -4.000e+00, -8.900e+01,  2.700e+01,  1.001e+03,  1.340e+02,\n         6.630e+02, -7.700e+01, -3.200e+01,  5.000e+01, -4.900e+01,\n         2.380e+02],\n       [ 3.700e+01,  1.500e+01,  3.900e+01,  2.000e+01,  4.200e+01,\n         7.500e+01,  1.000e+01,  6.300e+01,  4.800e+01,  1.780e+02,\n         1.000e+01,  8.100e+01,  4.900e+01,  3.900e+01,  4.400e+01,\n         1.260e+02,  5.600e+01,  4.600e+01,  1.000e+01,  1.000e+01,\n         4.500e+01, -2.100e+01,  6.400e+01,  9.980e+02,  6.300e+01,\n         9.650e+02,  1.822e+03,  3.090e+02,  8.900e+01,  8.000e+00,\n         5.890e+02],\n       [ 6.700e+01,  4.400e+01,  5.600e+01,  6.700e+01,  3.600e+01,\n         6.300e+01,  3.200e+01,  4.400e+01,  6.700e+01,  7.500e+01,\n         2.000e+01,  2.800e+01,  5.200e+01,  4.800e+01,  6.000e+01,\n         8.300e+01,  4.000e+01,  7.900e+01,  2.000e+01,  2.000e+01,\n        -8.700e+01, -7.000e+01,  2.800e+01,  1.001e+03,  7.500e+01,\n         7.550e+02,  2.800e+01,  1.100e+01,  6.300e+01, -3.900e+01,\n         2.520e+02],\n       [ 7.100e+01,  1.800e+01,  4.400e+01,  2.200e+01,  4.000e+00,\n         8.000e+01,  6.200e+01,  4.400e+01,  5.300e+01,  7.500e+01,\n         9.000e+00,  6.600e+01,  6.600e+01,  4.400e+01,  1.800e+01,\n         1.730e+02,  8.800e+01,  5.800e+01,  0.000e+00,  4.000e+00,\n        -6.700e+01, -2.500e+01,  2.300e+01,  1.010e+03,  9.000e+00,\n         7.930e+02,  9.500e+01,  4.200e+01,  3.100e+01, -5.200e+01,\n         2.260e+02],\n       [ 1.430e+02,  8.000e+00,  2.700e+01,  4.900e+01,  2.700e+01,\n         8.100e+01,  2.200e+01,  2.700e+01,  4.300e+01,  8.100e+01,\n         3.200e+01,  3.200e+01,  9.200e+01,  8.400e+01,  6.200e+01,\n         6.200e+01,  4.600e+01,  5.700e+01,  3.000e+00,  2.400e+01,\n        -4.700e+01, -1.800e+01,  4.000e+01,  1.005e+03,  5.400e+01,\n         9.630e+02,  1.074e+03,  2.890e+02,  6.700e+01, -4.000e+01,\n         3.710e+02],\n       [ 1.010e+02,  1.400e+01,  3.700e+01,  8.900e+01,  2.400e+01,\n         7.600e+01,  1.200e+01,  1.600e+01,  4.100e+01,  8.400e+01,\n         1.600e+01,  2.100e+01,  8.300e+01,  5.000e+01,  9.700e+01,\n         1.090e+02,  7.400e+01,  4.100e+01,  5.000e+00,  7.000e+00,\n        -1.700e+01, -6.300e+01,  1.050e+02,  1.013e+03,  3.600e+01,\n         8.980e+02,  1.137e+03,  1.170e+02,  2.560e+02, -7.600e+01,\n         9.710e+02],\n       [ 4.500e+01,  2.000e+00,  5.800e+01,  7.400e+01,  3.900e+01,\n         5.300e+01,  1.800e+01,  1.010e+02,  6.000e+01,  9.000e+01,\n         2.700e+01,  5.300e+01,  4.900e+01,  2.300e+01,  5.800e+01,\n         6.000e+01,  5.800e+01,  7.400e+01,  6.000e+00,  5.100e+01,\n        -2.000e+01, -1.500e+01,  5.900e+01,  9.990e+02,  9.600e+01,\n         5.850e+02, -7.500e+02, -1.460e+02,  1.290e+02, -1.900e+01,\n         5.130e+02],\n       [ 7.600e+01,  2.500e+01,  6.600e+01,  6.000e+01,  4.200e+01,\n         6.200e+01,  2.000e+01,  4.100e+01,  1.030e+02,  8.100e+01,\n         2.600e+01,  3.500e+01,  5.200e+01,  3.700e+01,  4.900e+01,\n         7.600e+01,  5.100e+01,  6.700e+01,  1.000e+01,  2.200e+01,\n        -5.600e+01, -2.100e+01,  1.030e+02,  1.007e+03,  7.400e+01,\n         9.030e+02,  2.318e+03,  2.510e+02,  2.560e+02, -4.700e+01,\n         9.220e+02],\n       [ 7.200e+01,  5.000e+00,  5.800e+01,  7.900e+01,  4.700e+01,\n         5.400e+01,  2.100e+01,  6.500e+01,  5.600e+01,  1.250e+02,\n         1.800e+01,  3.900e+01,  4.600e+01,  5.900e+01,  6.500e+01,\n         4.800e+01,  4.700e+01,  6.500e+01,  3.000e+00,  2.500e+01,\n        -1.300e+01, -4.000e+00,  1.300e+02,  1.001e+03,  7.600e+01,\n         5.780e+02, -2.009e+03, -1.750e+02,  2.960e+02, -2.500e+01,\n         1.146e+03],\n       [ 6.700e+01,  6.000e+00,  2.000e+01,  7.100e+01,  3.700e+01,\n         7.300e+01,  1.000e+01,  4.100e+01,  9.400e+01,  7.600e+01,\n         2.900e+01,  6.300e+01,  8.800e+01,  6.300e+01,  4.100e+01,\n         8.400e+01,  4.900e+01,  5.700e+01,  4.000e+00,  2.700e+01,\n        -2.700e+01, -1.200e+01,  5.400e+01,  1.013e+03,  6.700e+01,\n         9.630e+02,  2.056e+03,  4.200e+02,  1.110e+02, -6.500e+01,\n         4.900e+02],\n       [ 9.400e+01,  2.200e+01,  9.000e+00,  4.000e+01,  4.000e+01,\n         2.200e+01,  3.500e+01,  8.000e+01,  1.020e+02,  8.500e+01,\n         2.200e+01,  3.000e+01,  1.200e+01,  8.100e+01,  1.080e+02,\n         5.600e+01,  4.300e+01,  6.000e+01,  1.400e+01,  4.500e+01,\n        -5.100e+01,  2.700e+01,  1.650e+02,  9.940e+02,  9.900e+01,\n         1.089e+03,  2.219e+04,  1.598e+03,  3.600e+02, -4.200e+01,\n         1.389e+03],\n       [ 5.600e+01,  0.000e+00,  6.100e+01,  4.700e+01,  5.400e+01,\n         7.800e+01,  1.200e+01,  9.000e+01,  4.200e+01,  7.800e+01,\n         1.700e+01,  7.600e+01,  5.100e+01,  3.900e+01,  2.500e+01,\n         6.400e+01,  6.100e+01,  6.400e+01,  2.200e+01,  6.300e+01,\n        -5.000e+01,  1.370e+02,  6.700e+01,  9.970e+02,  1.390e+02,\n         4.680e+02, -2.457e+03, -4.160e+02,  1.040e+02, -1.500e+01,\n         5.910e+02]])"
     },
     "execution_count": 22,
     "metadata": {},
     "output_type": "execute_result"
    }
   ],
   "source": [
    "chall_feats"
   ],
   "metadata": {
    "collapsed": false
   }
  },
  {
   "cell_type": "code",
   "execution_count": 28,
   "outputs": [
    {
     "name": "stdout",
     "output_type": "stream",
     "text": [
      "31\n"
     ]
    }
   ],
   "source": [
    "cols = ['A%', 'C%', 'D%', 'E%', 'F%', 'G%', 'H%', 'I%', 'K%', 'L%', 'M%', 'N%', 'P%', 'Q%', 'R%',\n",
    "        'S%', 'T%', 'V%', 'W%', 'Y%', 'Nt50_hb', 'Ct50_hb', 'mw', 'flx', 'ar', 'ip', 'nc', 'mnc',\n",
    "        'tc', 'hb', 'protein length']\n",
    "print(len(cols))"
   ],
   "metadata": {
    "collapsed": false
   }
  },
  {
   "cell_type": "code",
   "execution_count": 29,
   "outputs": [
    {
     "data": {
      "text/plain": "          A%    C%    D%     E%    F%     G%    H%     I%     K%     L%  ...  \\\nSEQ01   78.0  29.0  19.0   68.0  58.0  107.0  29.0   87.0   58.0   78.0  ...   \nSEQ02   97.0  15.0  24.0   58.0  73.0   70.0   0.0   97.0   42.0  124.0  ...   \nSEQ03   74.0   4.0  11.0   59.0  15.0   52.0  41.0   55.0   81.0   96.0  ...   \nSEQ04   43.0  16.0  58.0   78.0  37.0   50.0  16.0   55.0   76.0   98.0  ...   \nSEQ05   91.0   4.0  40.0  138.0  30.0   40.0  19.0   26.0   45.0  128.0  ...   \nSEQ06   51.0  23.0  62.0   97.0  43.0   74.0  27.0   43.0   39.0  101.0  ...   \nSEQ07  110.0  41.0  59.0   13.0  43.0   82.0  20.0   41.0   77.0   66.0  ...   \nSEQ08  109.0  26.0  31.0   28.0  65.0   67.0  21.0   72.0   41.0   62.0  ...   \nSEQ09   50.0   8.0  34.0   71.0  34.0   55.0   4.0   21.0   55.0   88.0  ...   \nSEQ10   37.0  15.0  39.0   20.0  42.0   75.0  10.0   63.0   48.0  178.0  ...   \nSEQ11   67.0  44.0  56.0   67.0  36.0   63.0  32.0   44.0   67.0   75.0  ...   \nSEQ12   71.0  18.0  44.0   22.0   4.0   80.0  62.0   44.0   53.0   75.0  ...   \nSEQ13  143.0   8.0  27.0   49.0  27.0   81.0  22.0   27.0   43.0   81.0  ...   \nSEQ14  101.0  14.0  37.0   89.0  24.0   76.0  12.0   16.0   41.0   84.0  ...   \nSEQ15   45.0   2.0  58.0   74.0  39.0   53.0  18.0  101.0   60.0   90.0  ...   \nSEQ16   76.0  25.0  66.0   60.0  42.0   62.0  20.0   41.0  103.0   81.0  ...   \nSEQ17   72.0   5.0  58.0   79.0  47.0   54.0  21.0   65.0   56.0  125.0  ...   \nSEQ18   67.0   6.0  20.0   71.0  37.0   73.0  10.0   41.0   94.0   76.0  ...   \nSEQ19   94.0  22.0   9.0   40.0  40.0   22.0  35.0   80.0  102.0   85.0  ...   \nSEQ20   56.0   0.0  61.0   47.0  54.0   78.0  12.0   90.0   42.0   78.0  ...   \n\n       Ct50_hb     mw     flx     ar      ip       nc     mnc     tc    hb  \\\nSEQ01    -19.0   11.0   999.0   58.0   957.0    470.0   456.0   23.0 -20.0   \nSEQ02    134.0   37.0   983.0  130.0   500.0   -588.0  -178.0   49.0  83.0   \nSEQ03   -118.0   30.0  1005.0   44.0  1092.0   2861.0  1056.0   67.0 -54.0   \nSEQ04      9.0   97.0  1009.0   57.0   833.0    436.0    51.0  239.0 -56.0   \nSEQ05   -116.0   54.0  1012.0   51.0   537.0  -1543.0  -328.0  153.0 -78.0   \nSEQ06    -34.0   29.0  1003.0   70.0   479.0  -1761.0  -685.0   65.0 -31.0   \nSEQ07    -50.0   42.0   996.0   95.0   896.0   1110.0   284.0   68.0  -5.0   \nSEQ08    -25.0   42.0   993.0  103.0   935.0   1228.0   317.0   59.0   8.0   \nSEQ09    -89.0   27.0  1001.0  134.0   663.0    -77.0   -32.0   50.0 -49.0   \nSEQ10    -21.0   64.0   998.0   63.0   965.0   1822.0   309.0   89.0   8.0   \nSEQ11    -70.0   28.0  1001.0   75.0   755.0     28.0    11.0   63.0 -39.0   \nSEQ12    -25.0   23.0  1010.0    9.0   793.0     95.0    42.0   31.0 -52.0   \nSEQ13    -18.0   40.0  1005.0   54.0   963.0   1074.0   289.0   67.0 -40.0   \nSEQ14    -63.0  105.0  1013.0   36.0   898.0   1137.0   117.0  256.0 -76.0   \nSEQ15    -15.0   59.0   999.0   96.0   585.0   -750.0  -146.0  129.0 -19.0   \nSEQ16    -21.0  103.0  1007.0   74.0   903.0   2318.0   251.0  256.0 -47.0   \nSEQ17     -4.0  130.0  1001.0   76.0   578.0  -2009.0  -175.0  296.0 -25.0   \nSEQ18    -12.0   54.0  1013.0   67.0   963.0   2056.0   420.0  111.0 -65.0   \nSEQ19     27.0  165.0   994.0   99.0  1089.0  22190.0  1598.0  360.0 -42.0   \nSEQ20    137.0   67.0   997.0  139.0   468.0  -2457.0  -416.0  104.0 -15.0   \n\n       protein length  \nSEQ01           103.0  \nSEQ02           330.0  \nSEQ03           271.0  \nSEQ04           859.0  \nSEQ05           470.0  \nSEQ06           257.0  \nSEQ07           391.0  \nSEQ08           387.0  \nSEQ09           238.0  \nSEQ10           589.0  \nSEQ11           252.0  \nSEQ12           226.0  \nSEQ13           371.0  \nSEQ14           971.0  \nSEQ15           513.0  \nSEQ16           922.0  \nSEQ17          1146.0  \nSEQ18           490.0  \nSEQ19          1389.0  \nSEQ20           591.0  \n\n[20 rows x 31 columns]",
      "text/html": "<div>\n<style scoped>\n    .dataframe tbody tr th:only-of-type {\n        vertical-align: middle;\n    }\n\n    .dataframe tbody tr th {\n        vertical-align: top;\n    }\n\n    .dataframe thead th {\n        text-align: right;\n    }\n</style>\n<table border=\"1\" class=\"dataframe\">\n  <thead>\n    <tr style=\"text-align: right;\">\n      <th></th>\n      <th>A%</th>\n      <th>C%</th>\n      <th>D%</th>\n      <th>E%</th>\n      <th>F%</th>\n      <th>G%</th>\n      <th>H%</th>\n      <th>I%</th>\n      <th>K%</th>\n      <th>L%</th>\n      <th>...</th>\n      <th>Ct50_hb</th>\n      <th>mw</th>\n      <th>flx</th>\n      <th>ar</th>\n      <th>ip</th>\n      <th>nc</th>\n      <th>mnc</th>\n      <th>tc</th>\n      <th>hb</th>\n      <th>protein length</th>\n    </tr>\n  </thead>\n  <tbody>\n    <tr>\n      <th>SEQ01</th>\n      <td>78.0</td>\n      <td>29.0</td>\n      <td>19.0</td>\n      <td>68.0</td>\n      <td>58.0</td>\n      <td>107.0</td>\n      <td>29.0</td>\n      <td>87.0</td>\n      <td>58.0</td>\n      <td>78.0</td>\n      <td>...</td>\n      <td>-19.0</td>\n      <td>11.0</td>\n      <td>999.0</td>\n      <td>58.0</td>\n      <td>957.0</td>\n      <td>470.0</td>\n      <td>456.0</td>\n      <td>23.0</td>\n      <td>-20.0</td>\n      <td>103.0</td>\n    </tr>\n    <tr>\n      <th>SEQ02</th>\n      <td>97.0</td>\n      <td>15.0</td>\n      <td>24.0</td>\n      <td>58.0</td>\n      <td>73.0</td>\n      <td>70.0</td>\n      <td>0.0</td>\n      <td>97.0</td>\n      <td>42.0</td>\n      <td>124.0</td>\n      <td>...</td>\n      <td>134.0</td>\n      <td>37.0</td>\n      <td>983.0</td>\n      <td>130.0</td>\n      <td>500.0</td>\n      <td>-588.0</td>\n      <td>-178.0</td>\n      <td>49.0</td>\n      <td>83.0</td>\n      <td>330.0</td>\n    </tr>\n    <tr>\n      <th>SEQ03</th>\n      <td>74.0</td>\n      <td>4.0</td>\n      <td>11.0</td>\n      <td>59.0</td>\n      <td>15.0</td>\n      <td>52.0</td>\n      <td>41.0</td>\n      <td>55.0</td>\n      <td>81.0</td>\n      <td>96.0</td>\n      <td>...</td>\n      <td>-118.0</td>\n      <td>30.0</td>\n      <td>1005.0</td>\n      <td>44.0</td>\n      <td>1092.0</td>\n      <td>2861.0</td>\n      <td>1056.0</td>\n      <td>67.0</td>\n      <td>-54.0</td>\n      <td>271.0</td>\n    </tr>\n    <tr>\n      <th>SEQ04</th>\n      <td>43.0</td>\n      <td>16.0</td>\n      <td>58.0</td>\n      <td>78.0</td>\n      <td>37.0</td>\n      <td>50.0</td>\n      <td>16.0</td>\n      <td>55.0</td>\n      <td>76.0</td>\n      <td>98.0</td>\n      <td>...</td>\n      <td>9.0</td>\n      <td>97.0</td>\n      <td>1009.0</td>\n      <td>57.0</td>\n      <td>833.0</td>\n      <td>436.0</td>\n      <td>51.0</td>\n      <td>239.0</td>\n      <td>-56.0</td>\n      <td>859.0</td>\n    </tr>\n    <tr>\n      <th>SEQ05</th>\n      <td>91.0</td>\n      <td>4.0</td>\n      <td>40.0</td>\n      <td>138.0</td>\n      <td>30.0</td>\n      <td>40.0</td>\n      <td>19.0</td>\n      <td>26.0</td>\n      <td>45.0</td>\n      <td>128.0</td>\n      <td>...</td>\n      <td>-116.0</td>\n      <td>54.0</td>\n      <td>1012.0</td>\n      <td>51.0</td>\n      <td>537.0</td>\n      <td>-1543.0</td>\n      <td>-328.0</td>\n      <td>153.0</td>\n      <td>-78.0</td>\n      <td>470.0</td>\n    </tr>\n    <tr>\n      <th>SEQ06</th>\n      <td>51.0</td>\n      <td>23.0</td>\n      <td>62.0</td>\n      <td>97.0</td>\n      <td>43.0</td>\n      <td>74.0</td>\n      <td>27.0</td>\n      <td>43.0</td>\n      <td>39.0</td>\n      <td>101.0</td>\n      <td>...</td>\n      <td>-34.0</td>\n      <td>29.0</td>\n      <td>1003.0</td>\n      <td>70.0</td>\n      <td>479.0</td>\n      <td>-1761.0</td>\n      <td>-685.0</td>\n      <td>65.0</td>\n      <td>-31.0</td>\n      <td>257.0</td>\n    </tr>\n    <tr>\n      <th>SEQ07</th>\n      <td>110.0</td>\n      <td>41.0</td>\n      <td>59.0</td>\n      <td>13.0</td>\n      <td>43.0</td>\n      <td>82.0</td>\n      <td>20.0</td>\n      <td>41.0</td>\n      <td>77.0</td>\n      <td>66.0</td>\n      <td>...</td>\n      <td>-50.0</td>\n      <td>42.0</td>\n      <td>996.0</td>\n      <td>95.0</td>\n      <td>896.0</td>\n      <td>1110.0</td>\n      <td>284.0</td>\n      <td>68.0</td>\n      <td>-5.0</td>\n      <td>391.0</td>\n    </tr>\n    <tr>\n      <th>SEQ08</th>\n      <td>109.0</td>\n      <td>26.0</td>\n      <td>31.0</td>\n      <td>28.0</td>\n      <td>65.0</td>\n      <td>67.0</td>\n      <td>21.0</td>\n      <td>72.0</td>\n      <td>41.0</td>\n      <td>62.0</td>\n      <td>...</td>\n      <td>-25.0</td>\n      <td>42.0</td>\n      <td>993.0</td>\n      <td>103.0</td>\n      <td>935.0</td>\n      <td>1228.0</td>\n      <td>317.0</td>\n      <td>59.0</td>\n      <td>8.0</td>\n      <td>387.0</td>\n    </tr>\n    <tr>\n      <th>SEQ09</th>\n      <td>50.0</td>\n      <td>8.0</td>\n      <td>34.0</td>\n      <td>71.0</td>\n      <td>34.0</td>\n      <td>55.0</td>\n      <td>4.0</td>\n      <td>21.0</td>\n      <td>55.0</td>\n      <td>88.0</td>\n      <td>...</td>\n      <td>-89.0</td>\n      <td>27.0</td>\n      <td>1001.0</td>\n      <td>134.0</td>\n      <td>663.0</td>\n      <td>-77.0</td>\n      <td>-32.0</td>\n      <td>50.0</td>\n      <td>-49.0</td>\n      <td>238.0</td>\n    </tr>\n    <tr>\n      <th>SEQ10</th>\n      <td>37.0</td>\n      <td>15.0</td>\n      <td>39.0</td>\n      <td>20.0</td>\n      <td>42.0</td>\n      <td>75.0</td>\n      <td>10.0</td>\n      <td>63.0</td>\n      <td>48.0</td>\n      <td>178.0</td>\n      <td>...</td>\n      <td>-21.0</td>\n      <td>64.0</td>\n      <td>998.0</td>\n      <td>63.0</td>\n      <td>965.0</td>\n      <td>1822.0</td>\n      <td>309.0</td>\n      <td>89.0</td>\n      <td>8.0</td>\n      <td>589.0</td>\n    </tr>\n    <tr>\n      <th>SEQ11</th>\n      <td>67.0</td>\n      <td>44.0</td>\n      <td>56.0</td>\n      <td>67.0</td>\n      <td>36.0</td>\n      <td>63.0</td>\n      <td>32.0</td>\n      <td>44.0</td>\n      <td>67.0</td>\n      <td>75.0</td>\n      <td>...</td>\n      <td>-70.0</td>\n      <td>28.0</td>\n      <td>1001.0</td>\n      <td>75.0</td>\n      <td>755.0</td>\n      <td>28.0</td>\n      <td>11.0</td>\n      <td>63.0</td>\n      <td>-39.0</td>\n      <td>252.0</td>\n    </tr>\n    <tr>\n      <th>SEQ12</th>\n      <td>71.0</td>\n      <td>18.0</td>\n      <td>44.0</td>\n      <td>22.0</td>\n      <td>4.0</td>\n      <td>80.0</td>\n      <td>62.0</td>\n      <td>44.0</td>\n      <td>53.0</td>\n      <td>75.0</td>\n      <td>...</td>\n      <td>-25.0</td>\n      <td>23.0</td>\n      <td>1010.0</td>\n      <td>9.0</td>\n      <td>793.0</td>\n      <td>95.0</td>\n      <td>42.0</td>\n      <td>31.0</td>\n      <td>-52.0</td>\n      <td>226.0</td>\n    </tr>\n    <tr>\n      <th>SEQ13</th>\n      <td>143.0</td>\n      <td>8.0</td>\n      <td>27.0</td>\n      <td>49.0</td>\n      <td>27.0</td>\n      <td>81.0</td>\n      <td>22.0</td>\n      <td>27.0</td>\n      <td>43.0</td>\n      <td>81.0</td>\n      <td>...</td>\n      <td>-18.0</td>\n      <td>40.0</td>\n      <td>1005.0</td>\n      <td>54.0</td>\n      <td>963.0</td>\n      <td>1074.0</td>\n      <td>289.0</td>\n      <td>67.0</td>\n      <td>-40.0</td>\n      <td>371.0</td>\n    </tr>\n    <tr>\n      <th>SEQ14</th>\n      <td>101.0</td>\n      <td>14.0</td>\n      <td>37.0</td>\n      <td>89.0</td>\n      <td>24.0</td>\n      <td>76.0</td>\n      <td>12.0</td>\n      <td>16.0</td>\n      <td>41.0</td>\n      <td>84.0</td>\n      <td>...</td>\n      <td>-63.0</td>\n      <td>105.0</td>\n      <td>1013.0</td>\n      <td>36.0</td>\n      <td>898.0</td>\n      <td>1137.0</td>\n      <td>117.0</td>\n      <td>256.0</td>\n      <td>-76.0</td>\n      <td>971.0</td>\n    </tr>\n    <tr>\n      <th>SEQ15</th>\n      <td>45.0</td>\n      <td>2.0</td>\n      <td>58.0</td>\n      <td>74.0</td>\n      <td>39.0</td>\n      <td>53.0</td>\n      <td>18.0</td>\n      <td>101.0</td>\n      <td>60.0</td>\n      <td>90.0</td>\n      <td>...</td>\n      <td>-15.0</td>\n      <td>59.0</td>\n      <td>999.0</td>\n      <td>96.0</td>\n      <td>585.0</td>\n      <td>-750.0</td>\n      <td>-146.0</td>\n      <td>129.0</td>\n      <td>-19.0</td>\n      <td>513.0</td>\n    </tr>\n    <tr>\n      <th>SEQ16</th>\n      <td>76.0</td>\n      <td>25.0</td>\n      <td>66.0</td>\n      <td>60.0</td>\n      <td>42.0</td>\n      <td>62.0</td>\n      <td>20.0</td>\n      <td>41.0</td>\n      <td>103.0</td>\n      <td>81.0</td>\n      <td>...</td>\n      <td>-21.0</td>\n      <td>103.0</td>\n      <td>1007.0</td>\n      <td>74.0</td>\n      <td>903.0</td>\n      <td>2318.0</td>\n      <td>251.0</td>\n      <td>256.0</td>\n      <td>-47.0</td>\n      <td>922.0</td>\n    </tr>\n    <tr>\n      <th>SEQ17</th>\n      <td>72.0</td>\n      <td>5.0</td>\n      <td>58.0</td>\n      <td>79.0</td>\n      <td>47.0</td>\n      <td>54.0</td>\n      <td>21.0</td>\n      <td>65.0</td>\n      <td>56.0</td>\n      <td>125.0</td>\n      <td>...</td>\n      <td>-4.0</td>\n      <td>130.0</td>\n      <td>1001.0</td>\n      <td>76.0</td>\n      <td>578.0</td>\n      <td>-2009.0</td>\n      <td>-175.0</td>\n      <td>296.0</td>\n      <td>-25.0</td>\n      <td>1146.0</td>\n    </tr>\n    <tr>\n      <th>SEQ18</th>\n      <td>67.0</td>\n      <td>6.0</td>\n      <td>20.0</td>\n      <td>71.0</td>\n      <td>37.0</td>\n      <td>73.0</td>\n      <td>10.0</td>\n      <td>41.0</td>\n      <td>94.0</td>\n      <td>76.0</td>\n      <td>...</td>\n      <td>-12.0</td>\n      <td>54.0</td>\n      <td>1013.0</td>\n      <td>67.0</td>\n      <td>963.0</td>\n      <td>2056.0</td>\n      <td>420.0</td>\n      <td>111.0</td>\n      <td>-65.0</td>\n      <td>490.0</td>\n    </tr>\n    <tr>\n      <th>SEQ19</th>\n      <td>94.0</td>\n      <td>22.0</td>\n      <td>9.0</td>\n      <td>40.0</td>\n      <td>40.0</td>\n      <td>22.0</td>\n      <td>35.0</td>\n      <td>80.0</td>\n      <td>102.0</td>\n      <td>85.0</td>\n      <td>...</td>\n      <td>27.0</td>\n      <td>165.0</td>\n      <td>994.0</td>\n      <td>99.0</td>\n      <td>1089.0</td>\n      <td>22190.0</td>\n      <td>1598.0</td>\n      <td>360.0</td>\n      <td>-42.0</td>\n      <td>1389.0</td>\n    </tr>\n    <tr>\n      <th>SEQ20</th>\n      <td>56.0</td>\n      <td>0.0</td>\n      <td>61.0</td>\n      <td>47.0</td>\n      <td>54.0</td>\n      <td>78.0</td>\n      <td>12.0</td>\n      <td>90.0</td>\n      <td>42.0</td>\n      <td>78.0</td>\n      <td>...</td>\n      <td>137.0</td>\n      <td>67.0</td>\n      <td>997.0</td>\n      <td>139.0</td>\n      <td>468.0</td>\n      <td>-2457.0</td>\n      <td>-416.0</td>\n      <td>104.0</td>\n      <td>-15.0</td>\n      <td>591.0</td>\n    </tr>\n  </tbody>\n</table>\n<p>20 rows × 31 columns</p>\n</div>"
     },
     "execution_count": 29,
     "metadata": {},
     "output_type": "execute_result"
    }
   ],
   "source": [
    "cf_pdf = pd.DataFrame(chall_feats, columns=cols)\n",
    "cf_pdf.index = row_ids\n",
    "cf_pdf"
   ],
   "metadata": {
    "collapsed": false
   }
  },
  {
   "cell_type": "code",
   "execution_count": null,
   "outputs": [],
   "source": [],
   "metadata": {
    "collapsed": false
   }
  }
 ],
 "metadata": {
  "kernelspec": {
   "display_name": "Python 3",
   "language": "python",
   "name": "python3"
  },
  "language_info": {
   "codemirror_mode": {
    "name": "ipython",
    "version": 2
   },
   "file_extension": ".py",
   "mimetype": "text/x-python",
   "name": "python",
   "nbconvert_exporter": "python",
   "pygments_lexer": "ipython2",
   "version": "2.7.6"
  }
 },
 "nbformat": 4,
 "nbformat_minor": 0
}
