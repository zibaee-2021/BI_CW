{
 "cells": [
  {
   "cell_type": "code",
   "execution_count": 6,
   "outputs": [],
   "source": [
    "import numpy as np\n",
    "from sklearn.model_selection import train_test_split\n",
    "from sklearn.metrics import accuracy_score\n",
    "from time import time\n",
    "import pandas as pd\n",
    "import matplotlib.pyplot as plt\n",
    "import local_signals, dataset, model, features\n",
    "from sklearn.ensemble import RandomForestClassifier"
   ],
   "metadata": {
    "collapsed": false
   }
  },
  {
   "cell_type": "markdown",
   "source": [
    "`label_and_features` has 76 columns which are 1 label + 75 features:\n",
    "Column index numbers are from 0 to 74.\n",
    "index 0 is label (0-4)\n",
    "index 1-20 is global aa comp.\n",
    "index 21-40 global aa comp for Nterm50.\n",
    "index 41-60 global aa comp for Cterm50.\n",
    "index 61 gravy for Nterm50.\n",
    "index 62 gravy for Cterm50.\n",
    "index 63 mol wt.\n",
    "index 64 mean flex.\n",
    "index 65 aromaticity.\n",
    "index 66 i.p.\n",
    "index 67 net charge.\n",
    "index 68 mnc.\n",
    "index 69 tc.\n",
    "index 70 mtc.\n",
    "index 71 gravy.\n",
    "index 72 length.\n",
    "index 73 is mito\n",
    "index 74 is nuclear\n",
    "index 75 is secreted"
   ],
   "metadata": {
    "collapsed": false
   }
  },
  {
   "cell_type": "code",
   "execution_count": 12,
   "outputs": [
    {
     "data": {
      "text/plain": "(9401, 76)"
     },
     "execution_count": 12,
     "metadata": {},
     "output_type": "execute_result"
    }
   ],
   "source": [
    "label_and_features = np.genfromtxt('../datasets/fiveClass.csv', delimiter=',')\n",
    "# 76 cols. 75 features  + label col at 0, and 3 SP columns at end.\n",
    "label_and_features.shape"
   ],
   "metadata": {
    "collapsed": false
   }
  },
  {
   "cell_type": "code",
   "execution_count": 14,
   "outputs": [
    {
     "name": "stdout",
     "output_type": "stream",
     "text": [
      "44\n"
     ]
    },
    {
     "data": {
      "text/plain": "(9401, 32)"
     },
     "execution_count": 14,
     "metadata": {},
     "output_type": "execute_result"
    }
   ],
   "source": [
    "# ONLY RUN ONCE!\n",
    "# drop mtc, signal peptides and Nterm50 and Cterm50 aa comps.\n",
    "cols_to_remove  = list(range(21, 61)) + [70, 73, 74, 75]\n",
    "print(len(cols_to_remove))\n",
    "label_and_features_less = np.delete(label_and_features, cols_to_remove, axis=1)\n",
    "label_and_features_less.shape"
   ],
   "metadata": {
    "collapsed": false
   }
  },
  {
   "cell_type": "code",
   "execution_count": 16,
   "outputs": [],
   "source": [
    "X_train_31, X_test_31, y_train_31, y_test_31 = model.split_train_test(label_and_features_less)"
   ],
   "metadata": {
    "collapsed": false
   }
  },
  {
   "cell_type": "code",
   "execution_count": 18,
   "outputs": [
    {
     "name": "stdout",
     "output_type": "stream",
     "text": [
      "(7520, 31)\n",
      "(1881, 31)\n",
      "(7520,)\n",
      "(1881,)\n"
     ]
    }
   ],
   "source": [
    "print(X_train_31.shape)\n",
    "print(X_test_31.shape)\n",
    "print(y_train_31.shape)\n",
    "print(y_test_31.shape)"
   ],
   "metadata": {
    "collapsed": false
   }
  },
  {
   "cell_type": "code",
   "execution_count": 21,
   "outputs": [
    {
     "name": "stdout",
     "output_type": "stream",
     "text": [
      "Trained in 6 secs\n",
      "Train accuracy is 100.0\n"
     ]
    },
    {
     "data": {
      "text/plain": "<Figure size 640x480 with 1 Axes>",
      "image/png": "[encoded data removed]"
     },
     "metadata": {},
     "output_type": "display_data"
    }
   ],
   "source": [
    "clf, importances = model.train_RFC(X_train_31, y_train_31)\n",
    "std = np.std([tree.feature_importances_ for tree in clf.estimators_], axis=0)\n",
    "feature_names = [f'{i}' for i in range(1, X_train_31.shape[1] +1)]\n",
    "forest_importances = pd.Series(importances, index=feature_names)\n",
    "fig, ax = plt.subplots()\n",
    "forest_importances.plot.bar(yerr=std, ax=ax)\n",
    "ax.set_title('Feature importances using MDI')\n",
    "ax.set_ylabel('Mean decrease in impurity')\n",
    "ax.set_xlabel('features', fontsize=10)\n",
    "ax.spines['right'].set_visible(False)\n",
    "ax.spines['top'].set_visible(False)\n",
    "fig.tight_layout()\n",
    "plt.xticks(fontsize=10)\n",
    "plt.show()\n"
   ],
   "metadata": {
    "collapsed": false
   }
  },
  {
   "cell_type": "code",
   "execution_count": null,
   "outputs": [],
   "source": [],
   "metadata": {
    "collapsed": false
   }
  },
  {
   "cell_type": "code",
   "execution_count": 27,
   "outputs": [
    {
     "name": "stdout",
     "output_type": "stream",
     "text": [
      "[33.0, 57.0, 23.0, 27.0, 21.0, 24.0, 23.0, 29.0, 34.0, 29.0, 25.0, 24.0, 27.0, 26.0, 28.0, 42.0, 25.0, 25.0, 21.0, 27.0, 50.0, 24.0, 46.0, 47.0, 28.0, 30.0, 27.0, 28.0, 48.0, 49.0, 52.0]\n",
      "31\n"
     ]
    }
   ],
   "source": [
    "imps = list(round(forest_importances * 1000))\n",
    "print(imps)\n",
    "print(len(imps))"
   ],
   "metadata": {
    "collapsed": false
   }
  },
  {
   "cell_type": "code",
   "execution_count": 28,
   "outputs": [
    {
     "name": "stdout",
     "output_type": "stream",
     "text": [
      "Test accuracy is 63.8\n"
     ]
    }
   ],
   "source": [
    "# predict_proba()\n",
    "model.test_RFC(clf, X_test_31, y_test_31)"
   ],
   "metadata": {
    "collapsed": false
   }
  },
  {
   "cell_type": "markdown",
   "source": [
    "### PREDICT WITH 31 GIVES 63.8%"
   ],
   "metadata": {
    "collapsed": false
   }
  },
  {
   "cell_type": "code",
   "execution_count": null,
   "outputs": [],
   "source": [],
   "metadata": {
    "collapsed": false
   }
  },
  {
   "cell_type": "code",
   "execution_count": 49,
   "outputs": [
    {
     "name": "stdout",
     "output_type": "stream",
     "text": [
      "[140, 220, 461, 495, 514, 531, 651, 656, 686, 723, 754, 786, 790, 852, 940, 1014, 1174, 1248, 1282, 1318, 1387, 1456, 1557, 1602, 1678, 1685, 1788, 1820, 1851]\n",
      "29\n"
     ]
    }
   ],
   "source": [
    "# MITOCHONDRIAL\n",
    "rows_inds_pred_mito = np.where(X_test[:, 72] == 1)[0].tolist()\n",
    "print(rows_inds_pred_mito)\n",
    "print(len(rows_inds_pred_mito))"
   ],
   "metadata": {
    "collapsed": false
   }
  },
  {
   "cell_type": "code",
   "execution_count": 33,
   "outputs": [
    {
     "name": "stdout",
     "output_type": "stream",
     "text": [
      "[3.0, 0.0, 0.0, 4.0, 2.0, 0.0, 0.0, 0.0, 2.0, 4.0, 3.0, 2.0, 2.0, 2.0, 2.0, 0.0, 0.0, 4.0, 3.0, 0.0, 2.0, 3.0, 4.0, 3.0, 2.0, 0.0, 0.0, 3.0, 0.0]\n"
     ]
    },
    {
     "data": {
      "text/plain": "27.6"
     },
     "execution_count": 33,
     "metadata": {},
     "output_type": "execute_result"
    }
   ],
   "source": [
    "predicted_to_be_2_mito = y_test[rows_inds_pred_mito]\n",
    "print(list(predicted_to_be_2_mito))\n",
    "count = np.count_nonzero(predicted_to_be_2_mito == 2)\n",
    "round(100 * count/len(predicted_to_be_2_mito), 1)"
   ],
   "metadata": {
    "collapsed": false
   }
  },
  {
   "cell_type": "code",
   "execution_count": 20,
   "outputs": [
    {
     "name": "stdout",
     "output_type": "stream",
     "text": [
      "[76.0, 5.0, 78.0, 68.0, 55.0, 61.0, 12.0, 56.0, 63.0, 76.0, 20.0, 40.0, 65.0, 25.0, 58.0, 86.0, 71.0, 50.0, 10.0, 25.0, 80.0, 0.0, 20.0, 60.0, 40.0, 40.0, 0.0, 80.0, 60.0, 60.0, 80.0, 40.0, 60.0, 20.0, 60.0, 120.0, 40.0, 80.0, 0.0, 60.0, 60.0, 20.0, 80.0, 40.0, 20.0, 20.0, 20.0, 80.0, 80.0, 100.0, 0.0, 0.0, 60.0, 60.0, 100.0, 120.0, 60.0, 40.0, 20.0, 20.0, 2.0, -62.0, 67.0, 1007.0, 90.0, 521.0, -1560.0, -259.0, 161.0, 27.0, -48.0, 603.0, 1.0, 0.0, 0.0]\n"
     ]
    }
   ],
   "source": [
    "print(list(X_test[140, :]))"
   ],
   "metadata": {
    "collapsed": false
   }
  },
  {
   "cell_type": "markdown",
   "source": [
    "if (i, 73) == 1, labels is predicted to be 2 (mito)\n",
    "if (i, 74) == 1, labels is predicted to be 3 (nuclear)\n",
    "if (i, 75) == 1, labels is predicted to be 1 (secreted)"
   ],
   "metadata": {
    "collapsed": false
   }
  },
  {
   "cell_type": "code",
   "execution_count": 48,
   "outputs": [
    {
     "name": "stdout",
     "output_type": "stream",
     "text": [
      "[13, 15, 17, 46, 48, 57, 59, 97, 108, 118, 126, 184, 194, 198, 217, 243, 257, 273, 274, 282, 331, 336, 374, 378, 396, 416, 426, 440, 443, 448, 490, 524, 552, 559, 578, 613, 637, 649, 650, 655, 657, 668, 681, 682, 700, 762, 784, 804, 807, 827, 851, 896, 924, 927, 938, 951, 958, 998, 1009, 1012, 1019, 1022, 1023, 1040, 1048, 1092, 1102, 1130, 1133, 1135, 1150, 1171, 1175, 1176, 1200, 1204, 1215, 1217, 1238, 1243, 1255, 1259, 1266, 1275, 1280, 1291, 1296, 1298, 1348, 1353, 1368, 1378, 1380, 1392, 1394, 1419, 1420, 1425, 1428, 1456, 1457, 1460, 1471, 1472, 1497, 1503, 1512, 1541, 1542, 1554, 1570, 1573, 1580, 1583, 1587, 1604, 1613, 1632, 1636, 1714, 1720, 1721, 1749, 1755, 1768, 1780, 1798, 1806, 1813, 1832, 1834, 1840, 1841, 1848, 1864]\n",
      "135\n"
     ]
    }
   ],
   "source": [
    "# NUCLEUS\n",
    "rows_inds_pred_nucl = np.where(X_test[:, 73] == 1)[0].tolist()\n",
    "print(rows_inds_pred_nucl)\n",
    "print(len(rows_inds_pred_nucl))"
   ],
   "metadata": {
    "collapsed": false
   }
  },
  {
   "cell_type": "code",
   "execution_count": 35,
   "outputs": [
    {
     "name": "stdout",
     "output_type": "stream",
     "text": [
      "[3.0, 3.0, 3.0, 3.0, 0.0, 3.0, 3.0, 3.0, 0.0, 3.0, 2.0, 3.0, 3.0, 3.0, 0.0, 2.0, 0.0, 3.0, 0.0, 2.0, 3.0, 3.0, 3.0, 3.0, 3.0, 3.0, 0.0, 3.0, 0.0, 3.0, 0.0, 0.0, 3.0, 3.0, 3.0, 3.0, 0.0, 0.0, 1.0, 3.0, 3.0, 3.0, 3.0, 0.0, 3.0, 3.0, 3.0, 3.0, 3.0, 3.0, 3.0, 3.0, 3.0, 3.0, 3.0, 3.0, 0.0, 3.0, 3.0, 3.0, 4.0, 3.0, 0.0, 0.0, 0.0, 3.0, 3.0, 4.0, 3.0, 0.0, 3.0, 3.0, 3.0, 0.0, 3.0, 3.0, 3.0, 3.0, 3.0, 3.0, 3.0, 3.0, 3.0, 2.0, 3.0, 0.0, 3.0, 3.0, 0.0, 3.0, 3.0, 3.0, 3.0, 3.0, 0.0, 3.0, 3.0, 4.0, 2.0, 3.0, 3.0, 4.0, 0.0, 3.0, 0.0, 3.0, 3.0, 0.0, 3.0, 3.0, 0.0, 0.0, 3.0, 3.0, 0.0, 3.0, 3.0, 3.0, 3.0, 3.0, 3.0, 3.0, 3.0, 3.0, 3.0, 3.0, 1.0, 4.0, 3.0, 3.0, 1.0, 0.0, 3.0, 3.0, 1.0]\n"
     ]
    },
    {
     "data": {
      "text/plain": "68.9"
     },
     "execution_count": 35,
     "metadata": {},
     "output_type": "execute_result"
    }
   ],
   "source": [
    "predicted_to_be_3_nucl= y_test[rows_inds_pred_nucl]\n",
    "print(list(predicted_to_be_3_nucl))\n",
    "count = np.count_nonzero(predicted_to_be_3_nucl == 3)\n",
    "round(100 * count/len(predicted_to_be_3_nucl), 1)"
   ],
   "metadata": {
    "collapsed": false
   }
  },
  {
   "cell_type": "code",
   "execution_count": 47,
   "outputs": [
    {
     "name": "stdout",
     "output_type": "stream",
     "text": [
      "[20, 196, 197, 234, 270, 275, 305, 364, 401, 406, 463, 526, 564, 593, 689, 794, 796, 901, 956, 992, 1007, 1100, 1132, 1138, 1173, 1177, 1215, 1322, 1344, 1360, 1460, 1543, 1578, 1594, 1653, 1747, 1828, 1874]\n",
      "38\n"
     ]
    }
   ],
   "source": [
    "# SECRETED\n",
    "rows_inds_pred_secr = np.where(X_test[:, 74] == 1)[0].tolist()\n",
    "print(rows_inds_pred_secr)\n",
    "print(len(rows_inds_pred_secr))"
   ],
   "metadata": {
    "collapsed": false
   }
  },
  {
   "cell_type": "code",
   "execution_count": 43,
   "outputs": [
    {
     "name": "stdout",
     "output_type": "stream",
     "text": [
      "[1.0, 4.0, 4.0, 4.0, 4.0, 0.0, 2.0, 4.0, 4.0, 1.0, 4.0, 4.0, 4.0, 1.0, 1.0, 1.0, 1.0, 4.0, 0.0, 3.0, 3.0, 1.0, 4.0, 4.0, 2.0, 4.0, 3.0, 4.0, 1.0, 2.0, 4.0, 4.0, 4.0, 4.0, 4.0, 4.0, 4.0, 4.0]\n",
      "21.1\n",
      "57.9\n"
     ]
    }
   ],
   "source": [
    "predicted_to_be_1_secr = y_test[rows_inds_pred_secr]\n",
    "print(list(predicted_to_be_1_secr))\n",
    "count = np.count_nonzero(predicted_to_be_1_secr == 1)\n",
    "print(round(100 * count/len(predicted_to_be_1_secr), 1))\n",
    "\n",
    "count = np.count_nonzero(predicted_to_be_1_secr == 4)\n",
    "print(round(100 * count/len(predicted_to_be_1_secr), 1))\n"
   ],
   "metadata": {
    "collapsed": false
   }
  },
  {
   "cell_type": "markdown",
   "source": [
    "Seems secretory search method finds 'other' better than it finds secretory proteins."
   ],
   "metadata": {
    "collapsed": false
   }
  },
  {
   "cell_type": "code",
   "execution_count": 46,
   "outputs": [
    {
     "name": "stdout",
     "output_type": "stream",
     "text": [
      "199\n"
     ]
    },
    {
     "data": {
      "text/plain": "(1682, 75)"
     },
     "execution_count": 46,
     "metadata": {},
     "output_type": "execute_result"
    }
   ],
   "source": [
    "rows_to_remove  = list(set(rows_inds_pred_nucl + rows_inds_pred_secr + rows_inds_pred_mito))\n",
    "print(len(rows_to_remove))\n",
    "X_test_less = np.delete(X_test, rows_to_remove, axis=0)\n",
    "X_test_less.shape"
   ],
   "metadata": {
    "collapsed": false
   }
  },
  {
   "cell_type": "code",
   "execution_count": null,
   "outputs": [],
   "source": [
    "cyto, mito, secreted, nuclear, other = 'cyto', 'mito', 'secreted', 'nuclear', 'other'\n",
    "labels = {cyto: 0, secreted: 1, mito: 2, nuclear: 3, other: 4}"
   ],
   "metadata": {
    "collapsed": false
   }
  },
  {
   "cell_type": "code",
   "execution_count": null,
   "outputs": [],
   "source": [],
   "metadata": {
    "collapsed": false
   }
  },
  {
   "cell_type": "code",
   "execution_count": 39,
   "outputs": [
    {
     "data": {
      "text/plain": "{1215, 1460}"
     },
     "execution_count": 39,
     "metadata": {},
     "output_type": "execute_result"
    }
   ],
   "source": [
    "set_nucl  = set(rows_inds_pred_nucl)\n",
    "set_secr = set(rows_inds_pred_secr)\n",
    "set_mito = set(rows_inds_pred_mito)\n",
    "common_inds = set_nucl.intersection(set_secr)\n",
    "common_inds"
   ],
   "metadata": {
    "collapsed": false
   }
  },
  {
   "cell_type": "code",
   "execution_count": 40,
   "outputs": [
    {
     "data": {
      "text/plain": "{1456}"
     },
     "execution_count": 40,
     "metadata": {},
     "output_type": "execute_result"
    }
   ],
   "source": [
    "common_inds = set_nucl.intersection(set_mito)\n",
    "common_inds"
   ],
   "metadata": {
    "collapsed": false
   }
  },
  {
   "cell_type": "code",
   "execution_count": 41,
   "outputs": [
    {
     "data": {
      "text/plain": "set()"
     },
     "execution_count": 41,
     "metadata": {},
     "output_type": "execute_result"
    }
   ],
   "source": [
    "common_inds = set_mito.intersection(set_secr)\n",
    "common_inds"
   ],
   "metadata": {
    "collapsed": false
   }
  },
  {
   "cell_type": "code",
   "execution_count": 42,
   "outputs": [
    {
     "data": {
      "text/plain": "set()"
     },
     "execution_count": 42,
     "metadata": {},
     "output_type": "execute_result"
    }
   ],
   "source": [
    "common_inds = set_mito.intersection(set_secr, set_nucl)\n",
    "common_inds"
   ],
   "metadata": {
    "collapsed": false
   }
  },
  {
   "cell_type": "code",
   "execution_count": 60,
   "outputs": [],
   "source": [
    "def train_RFC(X_train, y_train):\n",
    "    clf = RandomForestClassifier()\n",
    "    start = time()\n",
    "    clf.fit(X_train, y_train)\n",
    "    importances = clf.feature_importances_\n",
    "    print(f'Trained in {round((time() - start))} secs')\n",
    "    preds = clf.predict(X_train)\n",
    "    acc = round(accuracy_score(y_train, preds) * 100, 1)\n",
    "    print(f'Train accuracy is {acc}')\n",
    "    return clf, importances"
   ],
   "metadata": {
    "collapsed": false
   }
  },
  {
   "cell_type": "code",
   "execution_count": 61,
   "outputs": [
    {
     "name": "stdout",
     "output_type": "stream",
     "text": [
      "Trained in 5 secs\n",
      "Train accuracy is 100.0\n"
     ]
    }
   ],
   "source": [
    "clf, importances = train_RFC(X_train, y_train)"
   ],
   "metadata": {
    "collapsed": false
   }
  },
  {
   "cell_type": "code",
   "execution_count": 55,
   "outputs": [
    {
     "data": {
      "text/plain": "(1682,)"
     },
     "execution_count": 55,
     "metadata": {},
     "output_type": "execute_result"
    }
   ],
   "source": [
    "y_test_less = np.delete(y_test, rows_to_remove, axis=0)\n",
    "y_test_less.shape"
   ],
   "metadata": {
    "collapsed": false
   }
  },
  {
   "cell_type": "code",
   "execution_count": 58,
   "outputs": [
    {
     "data": {
      "text/plain": "<Figure size 640x480 with 1 Axes>",
      "image/png": "[encoded data removed]"
     },
     "metadata": {},
     "output_type": "display_data"
    }
   ],
   "source": [
    "\n",
    "std = np.std([tree.feature_importances_ for tree in clf.estimators_], axis=0)\n",
    "feature_names = [f'{i}' for i in range(1, 76)]\n",
    "forest_importances = pd.Series(importances, index=feature_names)\n",
    "fig, ax = plt.subplots()\n",
    "forest_importances.plot.bar(yerr=std, ax=ax)\n",
    "ax.set_title('Feature importances using MDI')\n",
    "ax.set_ylabel('Mean decrease in impurity')\n",
    "ax.set_xlabel('features', fontsize=10)\n",
    "ax.spines['right'].set_visible(False)\n",
    "ax.spines['top'].set_visible(False)\n",
    "fig.tight_layout()\n",
    "plt.xticks(fontsize=10)\n",
    "plt.show()\n"
   ],
   "metadata": {
    "collapsed": false
   }
  },
  {
   "cell_type": "code",
   "execution_count": 62,
   "outputs": [
    {
     "name": "stdout",
     "output_type": "stream",
     "text": [
      "Test accuracy is 63.3\n"
     ]
    }
   ],
   "source": [
    "def test_RFC(clf, X_test, y_test):\n",
    "    preds = clf.predict(X_test)\n",
    "    acc = round(accuracy_score(y_test, preds) * 100, 1)\n",
    "    print(f'Test accuracy is {acc}')\n",
    "\n",
    "predict_proba()\n",
    "test_RFC(clf, X_test_less, y_test_less)"
   ],
   "metadata": {
    "collapsed": false
   }
  },
  {
   "cell_type": "code",
   "execution_count": null,
   "outputs": [],
   "source": [],
   "metadata": {
    "collapsed": false
   }
  }
 ],
 "metadata": {
  "kernelspec": {
   "display_name": "Python 3",
   "language": "python",
   "name": "python3"
  },
  "language_info": {
   "codemirror_mode": {
    "name": "ipython",
    "version": 2
   },
   "file_extension": ".py",
   "mimetype": "text/x-python",
   "name": "python",
   "nbconvert_exporter": "python",
   "pygments_lexer": "ipython2",
   "version": "2.7.6"
  }
 },
 "nbformat": 4,
 "nbformat_minor": 0
}
